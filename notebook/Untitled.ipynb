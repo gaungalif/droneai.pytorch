{
 "cells": [
  {
   "cell_type": "code",
   "execution_count": 1,
   "metadata": {},
   "outputs": [],
   "source": [
    "%load_ext autoreload\n",
    "%autoreload 2"
   ]
  },
  {
   "cell_type": "code",
   "execution_count": 32,
   "metadata": {},
   "outputs": [],
   "source": [
    "import numpy as np \n",
    "import pandas as pd\n",
    "import matplotlib.pyplot as plt\n",
    "from sklearn.model_selection import train_test_split\n",
    "\n",
    "\n",
    "\n",
    "import torch\n",
    "import torch.nn as nn\n",
    "import torch.nn.functional as F\n",
    "from torch.utils.data import Dataset, DataLoader\n",
    "from torch.autograd import Variable\n",
    "\n",
    "from torchvision import transforms as T\n",
    "import torchvision\n",
    "\n",
    "\n",
    "\n",
    "from PIL import Image\n",
    "import cv2\n",
    "import albumentations as A\n",
    "\n",
    "import time\n",
    "import os\n",
    "from tqdm.notebook import tqdm\n",
    "\n",
    "from pathlib import Path"
   ]
  },
  {
   "cell_type": "code",
   "execution_count": 59,
   "metadata": {},
   "outputs": [],
   "source": [
    "def load_image_mask(impath, mspath, alpha_val=0.6, figsize_val=(10,10)):\n",
    "    img = Image.open(str(impath))\n",
    "    mask = Image.open(str(mspath))\n",
    "    print('Image Size', np.asarray(img).shape)\n",
    "    print('Mask Size', np.asarray(mask).shape)\n",
    "\n",
    "    plt.figure(figsize=figsize_val)\n",
    "    plt.imshow(img)\n",
    "    plt.imshow(mask, alpha=alpha_val)\n",
    "    plt.title('Picture with Mask Appplied')\n",
    "    plt.show()\n",
    "    "
   ]
  },
  {
   "cell_type": "code",
   "execution_count": 212,
   "metadata": {},
   "outputs": [],
   "source": [
    "class DroneSegmentation(Dataset):\n",
    "    def __init__(self, root, val_size=0.1, mode='train', image_transform=None, mask_transform=None):\n",
    "        self.root = root\n",
    "        self.val_size = val_size\n",
    "        self.mode = mode\n",
    "        self.image_transform = image_transform\n",
    "        self.mask_transform = mask_transform\n",
    "        \n",
    "        self._load_files()\n",
    "        self._create_dataframe()\n",
    "        self._create_classes_dataframe()\n",
    "        self._split_dataframe()\n",
    "    \n",
    "    def _load_files(self):\n",
    "        IMAGE_PATH = Path(ROOT_PATH).joinpath('images')\n",
    "        MASK_PATH = Path(ROOT_PATH).joinpath('gt/semantic/label_images')\n",
    "        CLASS_DICT = Path(ROOT_PATH).joinpath('gt/semantic/class_dict.csv')\n",
    "        \n",
    "        self.image_files = sorted(list(IMAGE_PATH.glob('*.jpg')))\n",
    "        self.mask_files = sorted(list(MASK_PATH.glob('*.png')))\n",
    "        self.class_df = pd.read_csv(str(CLASS_DICT))\n",
    "        \n",
    "        \n",
    "    def _create_dataframe(self):\n",
    "        names, imgs_path, msks_path = [],[],[]\n",
    "        for idx in range(len(image_files)):\n",
    "            name = self.image_files[idx].stem\n",
    "            img_path = str(self.image_files[idx])\n",
    "            msk_path = str(self.mask_files[idx])\n",
    "\n",
    "            names.append(name)\n",
    "            imgs_path.append(img_path)\n",
    "            msks_path.append(msk_path)\n",
    "\n",
    "        data_dict = {\n",
    "            'id': names,\n",
    "            'image_path': imgs_path,\n",
    "            'mask_path': msks_path\n",
    "        }\n",
    "        self.dataframe = pd.DataFrame(data_dict)\n",
    "        \n",
    "        \n",
    "    def _create_classes_dataframe(self):\n",
    "        names, colors = [], []\n",
    "        for idx in range(len(class_df)):\n",
    "            name = self.class_df['name'].iloc[idx]\n",
    "            r = self.class_df[' r'].iloc[idx] \n",
    "            g = self.class_df[' g'].iloc[idx] \n",
    "            b = self.class_df[' b'].iloc[idx] \n",
    "            color = (r,g,b)\n",
    "            names.append(name)\n",
    "            colors.append(color)\n",
    "\n",
    "        classes_dict = {\n",
    "            'name': names,\n",
    "            'color': colors,\n",
    "        }\n",
    "\n",
    "        self.classes_dataframe = pd.DataFrame(classes_dict)\n",
    "        \n",
    "    def _load_image(self, path, to_np=False):\n",
    "        img = Image.open(path)\n",
    "        if to_np:\n",
    "            img = np.array(img)\n",
    "        return img\n",
    "    \n",
    "    def _convert_to_classes_masks(self, mask):\n",
    "        masks = []\n",
    "        for color in colors:\n",
    "            canvas = np.zeros((h,w))\n",
    "            label_img = mask == color\n",
    "            label_img = label_img.astype(np.int64)\n",
    "            label_img = ((label_img[:,:,0] * 255) + (label_img[:,:,1] * 255) + (label_img[:,:,2] * 255))/3\n",
    "            masks.append(label_img)\n",
    "        masks = np.dstack(masks)\n",
    "        return masks\n",
    "        \n",
    "    def _split_dataframe(self):\n",
    "        self.trainset, self.validset = train_test_split(self.dataframe, test_size=self.val_size, random_state=19)\n",
    "        if self.mode == 'train':\n",
    "            self.files = self.trainset\n",
    "        else:\n",
    "            self.files = self.validset\n",
    "    \n",
    "    def __len__(self):\n",
    "        return len(self.files)\n",
    "    \n",
    "    def __getitem__(self, idx):\n",
    "        impath = self.files['image_path'].iloc[idx]\n",
    "        mspath = self.files['mask_path'].iloc[idx]\n",
    "        \n",
    "        orig_img = self._load_image(impath)\n",
    "        mask_img = self._load_image(mspath, to_np=True)\n",
    "        mask_img = self._convert_to_classes_masks(mask_img)\n",
    "        \n",
    "        return orig_img, mask_img\n",
    "    \n",
    "        "
   ]
  },
  {
   "cell_type": "code",
   "execution_count": 213,
   "metadata": {},
   "outputs": [],
   "source": [
    "ROOT_PATH = '/data/semantic_drone/training_set'\n",
    "trainset = DroneSegmentation(root=ROOT_PATH,  mode='train', val_size=0.4)\n",
    "validset = DroneSegmentation(root=ROOT_PATH,  mode='valid', val_size=0.4)\n",
    "\n",
    "# trainset.files\n",
    "\n",
    "# impath = X_trainval['image_path'].iloc[idx]\n",
    "# mspath = X_trainval['mask_path'].iloc[idx]\n",
    "# load_image_mask(impath, mspath)"
   ]
  },
  {
   "cell_type": "code",
   "execution_count": 214,
   "metadata": {},
   "outputs": [
    {
     "name": "stdout",
     "output_type": "stream",
     "text": [
      "CPU times: user 11.3 s, sys: 5.19 s, total: 16.5 s\n",
      "Wall time: 16.5 s\n"
     ]
    }
   ],
   "source": [
    "%%time\n",
    "orig, masks = trainset[0]"
   ]
  },
  {
   "cell_type": "code",
   "execution_count": 215,
   "metadata": {},
   "outputs": [],
   "source": [
    "# idx = 10\n",
    "# impath = trainset[idx]['image_path']\n",
    "# mspath = trainset[idx]['mask_path']\n",
    "# im_imfile = Image.open(impath)\n",
    "# im_imfile = np.array(im_imfile)\n",
    "# ms_imfile = Image.open(mspath)\n",
    "# mask = np.array(ms_imfile)"
   ]
  },
  {
   "cell_type": "code",
   "execution_count": null,
   "metadata": {},
   "outputs": [],
   "source": [
    "import tifffile as tiff\n",
    "tiff.imsave('test.tiff', masks, compress='lzma')"
   ]
  },
  {
   "cell_type": "code",
   "execution_count": 209,
   "metadata": {},
   "outputs": [],
   "source": [
    "%%time\n"
   ]
  },
  {
   "cell_type": "code",
   "execution_count": null,
   "metadata": {},
   "outputs": [],
   "source": []
  },
  {
   "cell_type": "code",
   "execution_count": 201,
   "metadata": {},
   "outputs": [
    {
     "data": {
      "text/plain": [
       "<matplotlib.image.AxesImage at 0x7fafc6971b70>"
      ]
     },
     "execution_count": 201,
     "metadata": {},
     "output_type": "execute_result"
    },
    {
     "data": {
      "image/png": "[encoded data removed]",
      "text/plain": [
       "<Figure size 432x288 with 1 Axes>"
      ]
     },
     "metadata": {
      "needs_background": "light"
     },
     "output_type": "display_data"
    }
   ],
   "source": [
    "# plt.imshow(masks[:,:,4])\n",
    "#     print(names[15])\n",
    "#     plt.imshow(im_imfile)\n",
    "#     plt.imshow(msfile_label, alpha=0.9);\n",
    "#     plt.show()"
   ]
  },
  {
   "cell_type": "code",
   "execution_count": 153,
   "metadata": {},
   "outputs": [],
   "source": [
    "names = trainset.classes_dataframe['name']\n",
    "colors = trainset.classes_dataframe['color']"
   ]
  },
  {
   "cell_type": "code",
   "execution_count": 187,
   "metadata": {},
   "outputs": [
    {
     "data": {
      "text/plain": [
       "(0           (0, 0, 0)\n",
       " 1      (128, 64, 128)\n",
       " 2        (130, 76, 0)\n",
       " 3         (0, 102, 0)\n",
       " 4      (112, 103, 87)\n",
       " 5       (28, 42, 168)\n",
       " 6        (48, 41, 30)\n",
       " 7         (0, 50, 89)\n",
       " 8      (107, 142, 35)\n",
       " 9        (70, 70, 70)\n",
       " 10    (102, 102, 156)\n",
       " 11     (254, 228, 12)\n",
       " 12     (254, 148, 12)\n",
       " 13    (190, 153, 153)\n",
       " 14    (153, 153, 153)\n",
       " 15      (255, 22, 96)\n",
       " 16       (102, 51, 0)\n",
       " 17      (9, 143, 150)\n",
       " 18      (119, 11, 32)\n",
       " 19        (51, 51, 0)\n",
       " 20    (190, 250, 190)\n",
       " 21    (112, 150, 146)\n",
       " 22      (2, 135, 115)\n",
       " 23        (255, 0, 0)\n",
       " Name: color, dtype: object,\n",
       " 0       unlabeled\n",
       " 1      paved-area\n",
       " 2            dirt\n",
       " 3           grass\n",
       " 4          gravel\n",
       " 5           water\n",
       " 6           rocks\n",
       " 7            pool\n",
       " 8      vegetation\n",
       " 9            roof\n",
       " 10           wall\n",
       " 11         window\n",
       " 12           door\n",
       " 13          fence\n",
       " 14     fence-pole\n",
       " 15         person\n",
       " 16            dog\n",
       " 17            car\n",
       " 18        bicycle\n",
       " 19           tree\n",
       " 20      bald-tree\n",
       " 21      ar-marker\n",
       " 22       obstacle\n",
       " 23    conflicting\n",
       " Name: name, dtype: object)"
      ]
     },
     "execution_count": 187,
     "metadata": {},
     "output_type": "execute_result"
    }
   ],
   "source": [
    "colors, names"
   ]
  },
  {
   "cell_type": "code",
   "execution_count": null,
   "metadata": {},
   "outputs": [],
   "source": []
  }
 ],
 "metadata": {
  "kernelspec": {
   "display_name": "Python 3",
   "language": "python",
   "name": "python3"
  },
  "language_info": {
   "codemirror_mode": {
    "name": "ipython",
    "version": 3
   },
   "file_extension": ".py",
   "mimetype": "text/x-python",
   "name": "python",
   "nbconvert_exporter": "python",
   "pygments_lexer": "ipython3",
   "version": "3.6.8"
  }
 },
 "nbformat": 4,
 "nbformat_minor": 4
}
